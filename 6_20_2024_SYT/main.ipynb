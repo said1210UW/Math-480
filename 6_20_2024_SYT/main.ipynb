{
 "cells": [
  {
   "cell_type": "markdown",
   "metadata": {},
   "source": [
    "# Imports"
   ]
  },
  {
   "cell_type": "code",
   "execution_count": null,
   "metadata": {},
   "outputs": [],
   "source": [
    "import importlib\n",
    "import SYT\n",
    "import matplotlib.pyplot as plt\n",
    "\n",
    "importlib.reload(SYT)"
   ]
  },
  {
   "cell_type": "markdown",
   "metadata": {},
   "source": [
    "## SYT Helper Functions.\n",
    "Implement the functions `is_valid_SYT` and `reshape_perm` then run this cell to test your helper functions. "
   ]
  },
  {
   "cell_type": "code",
   "execution_count": null,
   "metadata": {},
   "outputs": [],
   "source": [
    "print(SYT.is_valid_SYT(((1, 2, 3), (4, 5, 6), (7, 8, 9)))) # True\n",
    "print(SYT.is_valid_SYT(((1, 2, 3), (5, 4), (6,)))) # False\n",
    "\n",
    "print(SYT.reshape_perm((1, 2, 3, 4, 5, 6), (3, 2, 1))) # ((1, 2, 3), (4, 5), (6,))\n",
    "print(SYT.reshape_perm((1, 2, 3, 4, 5, 6), (3, 3))) # ((1, 2, 3), (4, 5, 6))"
   ]
  },
  {
   "cell_type": "markdown",
   "metadata": {},
   "source": [
    "# Generate all SYTs\n",
    "Implement `SYTs` and generate all valid SYTs for the following shapes:\n",
    "- (4,3,2,1)\n",
    "- (2,2)\n",
    "- (3,3)\n",
    "- (4,4)\n",
    "- (5,5)\n",
    "\n",
    "Save your SYTs in the `data` subfolder. For example, the SYTs of shape (4,3,2,1) are saved in `data/SYTs_4_3_2_1.txt`.\n",
    "\n",
    "What do you notice about SYTs of shape (n,n)? Write your observation in this cell here:\n"
   ]
  },
  {
   "cell_type": "code",
   "execution_count": null,
   "metadata": {},
   "outputs": [],
   "source": [
    "# Generate SYTs\n",
    "shapes = [(4,3,2,1), (2,2), (3,3), (4,4), (5,5)]"
   ]
  },
  {
   "cell_type": "markdown",
   "metadata": {},
   "source": [
    "# Generating Random SYTs\n",
    "Implement `random_SYT` and `random_SYT_2` and compare the efficacy on the shape (2,2,2).\n",
    "\n",
    "Print out how long it takes to generate 10000 samples using each function and compare the distributions to the uniform distribution.\n",
    "\n",
    "Plot the distributions using matplotlib and save them in the `figures` subfolder."
   ]
  },
  {
   "cell_type": "code",
   "execution_count": null,
   "metadata": {},
   "outputs": [],
   "source": [
    "shape = (2,2,2)\n",
    "\n",
    "distribution = {syt: 0 for syt in SYT.SYTs(shape)}\n",
    "for i in range(10000):\n",
    "  # Test random_SYT()\n",
    "  pass\n",
    "\n",
    "distribution2 = {syt: 0 for syt in SYT.SYTs(shape)}\n",
    "for i in range(10000):\n",
    "  # Test random_SYT_2()\n",
    "  pass"
   ]
  }
 ],
 "metadata": {
  "kernelspec": {
   "display_name": "Python 3",
   "language": "python",
   "name": "python3"
  },
  "language_info": {
   "codemirror_mode": {
    "name": "ipython",
    "version": 3
   },
   "file_extension": ".py",
   "mimetype": "text/x-python",
   "name": "python",
   "nbconvert_exporter": "python",
   "pygments_lexer": "ipython3",
   "version": "3.9.5"
  }
 },
 "nbformat": 4,
 "nbformat_minor": 2
}
