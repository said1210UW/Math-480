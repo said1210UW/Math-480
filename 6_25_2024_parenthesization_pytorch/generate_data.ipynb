{
 "cells": [
  {
   "cell_type": "markdown",
   "metadata": {},
   "source": [
    "# Generate Data\n",
    "This is a simple notebook used for generating all the data we will be training our models on. For $1 \\le n \\le 10$, generate CSV data files. The header line should be `parenthesization,valid` and each subsequent row is a parenthesization followed by either `0` or `1`, where `0` denotes invalid and `1` denotes valid.\n",
    "\n",
    "The functions `parenthensizations.valid()` and `parenthesizations.invalid()` have been implemented for you, but make sure to balance the two classes so they have a equal number of data points."
   ]
  },
  {
   "cell_type": "code",
   "execution_count": 1,
   "metadata": {},
   "outputs": [
    {
     "name": "stdout",
     "output_type": "stream",
     "text": [
      "Generated data for n = 1\n",
      "Generated data for n = 2\n",
      "Generated data for n = 3\n",
      "Generated data for n = 4\n",
      "Generated data for n = 5\n",
      "Generated data for n = 6\n",
      "Generated data for n = 7\n",
      "Generated data for n = 8\n",
      "Generated data for n = 9\n"
     ]
    }
   ],
   "source": [
    "import importlib\n",
    "import random   \n",
    "parenthesizations = importlib.import_module('parenthesizations')\n",
    "\n",
    "for n in range(1, 10):\n",
    "     # Randomly select, to maybe not issues with data\n",
    "   \n",
    "    with open(f\"data/parenthesizations_{n}.csv\", \"w\") as f:\n",
    "        f.write(\"parenthesization,valid\\n\")\n",
    "        # TODO Implement data generation code.\n",
    "        validparenth = parenthesizations.valid(n)\n",
    "        for valid_data in validparenth:\n",
    "            f.write(f\"{valid_data},1\\n\")\n",
    "        \n",
    "        invalidparenth = random.sample(sorted(parenthesizations.invalid(n)), len(validparenth))\n",
    "        for invalid_data in invalidparenth:\n",
    "            f.write(f\"{invalid_data},0\\n\")\n",
    "\n",
    "        print(f\"Generated data for n = {n}\")\n",
    "    \n"
   ]
  }
 ],
 "metadata": {
  "kernelspec": {
   "display_name": "Python 3",
   "language": "python",
   "name": "python3"
  },
  "language_info": {
   "codemirror_mode": {
    "name": "ipython",
    "version": 3
   },
   "file_extension": ".py",
   "mimetype": "text/x-python",
   "name": "python",
   "nbconvert_exporter": "python",
   "pygments_lexer": "ipython3",
   "version": "3.12.4"
  }
 },
 "nbformat": 4,
 "nbformat_minor": 2
}
