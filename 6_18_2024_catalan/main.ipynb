{
 "cells": [
  {
   "cell_type": "markdown",
   "metadata": {},
   "source": [
    "## Imports\n",
    "The files you need for this notebook are imported in the cell below."
   ]
  },
  {
   "cell_type": "code",
   "execution_count": 1,
   "metadata": {},
   "outputs": [],
   "source": [
    "import catalan\n",
    "import os\n",
    "import time\n",
    "import matplotlib.pyplot as plt\n",
    "dirname = os.path.dirname(\"./\")"
   ]
  },
  {
   "cell_type": "markdown",
   "metadata": {},
   "source": [
    "## Generate Parenthesizations\n",
    "\n",
    "Generate all possible parenthesizations of length $n$ for $1 \\le n \\le 10$. Files should be outputted to `data/catalan_parenthesizations_n.txt` and a plot of the time used to generate each data file should go in `figures/catalan_parenthesizations.png`."
   ]
  },
  {
   "cell_type": "code",
   "execution_count": 2,
   "metadata": {},
   "outputs": [],
   "source": [
    "path = \"C:/Users/said1210/OneDrive - UW/UW 23-24/Summer 2024/MATH 480/Assignment 1/Math-480/6_18_2024_catalan/data/catalan_parenthesizations_n.txt\"\n",
    "\n",
    "for n in range(1, 11):\n",
    " start_time = time.time()\n",
    " results = catalan.parenthesizations(n)\n",
    " end_time = time.time()\n",
    "\n",
    "f = open(path, \"w\")\n",
    "f.write(str(results))\n",
    "f.close()"
   ]
  },
  {
   "cell_type": "markdown",
   "metadata": {},
   "source": [
    "## Generate Product Orders\n",
    "\n",
    "Generate all possible product orders of $n$ elements for $2 \\le n \\le 11$. Files should be outputted to `data/catalan_product_orders_n.txt` and a plot of the time used to generate each data file should go in `figures/catalan_product_orders.png`."
   ]
  },
  {
   "cell_type": "code",
   "execution_count": 3,
   "metadata": {},
   "outputs": [],
   "source": [
    "path = \"C:/Users/said1210/OneDrive - UW/UW 23-24/Summer 2024/MATH 480/Assignment 1/Math-480/6_18_2024_catalan/data/catalan_product_orders_n.txt\"\n",
    "\n",
    "for n in range(2, 12):\n",
    "  results = catalan.product_orders(n)\n",
    "\n",
    "f = open(path, \"w\")\n",
    "f.write(str(results))\n",
    "f.close()"
   ]
  },
  {
   "cell_type": "markdown",
   "metadata": {},
   "source": [
    "## Generate 231 Avoiding Permutations\n",
    "\n",
    "Generate all possible 231 avoiding permutations on $n$ elements for $1 \\le n \\le 10$. Files should be outputted to `data/catalan_permutations_n.txt` and a plot of the time used to generate each data file should go in `figures/catalan_permutations.png`."
   ]
  },
  {
   "cell_type": "code",
   "execution_count": 4,
   "metadata": {},
   "outputs": [],
   "source": [
    "path = \"C:/Users/said1210/OneDrive - UW/UW 23-24/Summer 2024/MATH 480/Assignment 1/Math-480/6_18_2024_catalan/data/catalan_permutations_n.txt\"\n",
    "for n in range(1, 11):\n",
    "  results = catalan.permutations_avoiding_231(n)\n",
    "\n",
    "f = open(path, \"w\")\n",
    "f.write(str(results))\n",
    "f.close()"
   ]
  },
  {
   "cell_type": "markdown",
   "metadata": {},
   "source": [
    "## Generate Triangulations\n",
    "\n",
    "Generate all possible triangulations on an $n$-sided polygon for $3 \\le n \\le 12$. Files should be outputted to `data/catalan_triangulations_n.txt` and a plot of the time used to generate each data file should go in `figures/catalan_triangulations.png`."
   ]
  },
  {
   "cell_type": "code",
   "execution_count": 5,
   "metadata": {},
   "outputs": [
    {
     "data": {
      "text/plain": [
       "set()"
      ]
     },
     "execution_count": 5,
     "metadata": {},
     "output_type": "execute_result"
    }
   ],
   "source": [
    "path = \"C:/Users/said1210/OneDrive - UW/UW 23-24/Summer 2024/MATH 480/Assignment 1/Math-480/6_18_2024_catalan/data/catalan_triangulations_n.txt\"\n",
    "for n in range(3, 13):\n",
    "  results = catalan.triangulations(n)\n",
    "\n",
    "f = open(path, \"w\")\n",
    "f.write(str(results))\n",
    "f.close()"
   ]
  }
 ],
 "metadata": {
  "kernelspec": {
   "display_name": "Python 3",
   "language": "python",
   "name": "python3"
  },
  "language_info": {
   "codemirror_mode": {
    "name": "ipython",
    "version": 3
   },
   "file_extension": ".py",
   "mimetype": "text/x-python",
   "name": "python",
   "nbconvert_exporter": "python",
   "pygments_lexer": "ipython3",
   "version": "3.12.4"
  }
 },
 "nbformat": 4,
 "nbformat_minor": 2
}
